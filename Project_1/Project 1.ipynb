{
 "cells": [
  {
   "cell_type": "code",
   "execution_count": 2,
   "metadata": {},
   "outputs": [
    {
     "ename": "NameError",
     "evalue": "name 'json' is not defined",
     "output_type": "error",
     "traceback": [
      "\u001b[1;31m---------------------------------------------------------------------------\u001b[0m",
      "\u001b[1;31mNameError\u001b[0m                                 Traceback (most recent call last)",
      "Cell \u001b[1;32mIn[2], line 8\u001b[0m\n\u001b[0;32m      6\u001b[0m end_year \u001b[38;5;241m=\u001b[39m \u001b[38;5;124m\"\u001b[39m\u001b[38;5;124m2024\u001b[39m\u001b[38;5;124m\"\u001b[39m\n\u001b[0;32m      7\u001b[0m \u001b[38;5;66;03m# Format the request body as json\u001b[39;00m\n\u001b[1;32m----> 8\u001b[0m data \u001b[38;5;241m=\u001b[39m \u001b[43mjson\u001b[49m\u001b[38;5;241m.\u001b[39mdumps({\n\u001b[0;32m      9\u001b[0m     \u001b[38;5;124m\"\u001b[39m\u001b[38;5;124mseriesid\u001b[39m\u001b[38;5;124m\"\u001b[39m: [series_id],\n\u001b[0;32m     10\u001b[0m     \u001b[38;5;124m\"\u001b[39m\u001b[38;5;124mstartyear\u001b[39m\u001b[38;5;124m\"\u001b[39m: start_year,\n\u001b[0;32m     11\u001b[0m     \u001b[38;5;124m\"\u001b[39m\u001b[38;5;124mendyear\u001b[39m\u001b[38;5;124m\"\u001b[39m: end_year,\n\u001b[0;32m     12\u001b[0m     \u001b[38;5;124m\"\u001b[39m\u001b[38;5;124mregistrationkey\u001b[39m\u001b[38;5;124m\"\u001b[39m: api_key\n\u001b[0;32m     13\u001b[0m })\n\u001b[0;32m     14\u001b[0m \u001b[38;5;66;03m# Send the post request and get the response\u001b[39;00m\n\u001b[0;32m     15\u001b[0m response \u001b[38;5;241m=\u001b[39m requests\u001b[38;5;241m.\u001b[39mpost(api_url, data\u001b[38;5;241m=\u001b[39mdata, headers\u001b[38;5;241m=\u001b[39m{\u001b[38;5;124m\"\u001b[39m\u001b[38;5;124mContent-type\u001b[39m\u001b[38;5;124m\"\u001b[39m: \u001b[38;5;124m\"\u001b[39m\u001b[38;5;124mapplication/json\u001b[39m\u001b[38;5;124m\"\u001b[39m})\n",
      "\u001b[1;31mNameError\u001b[0m: name 'json' is not defined"
     ]
    }
   ],
   "source": [
    "# Define the api url and parameters\n",
    "api_url = \"https://api.bls.gov/publicAPI/v2/timeseries/data/\"\n",
    "api_key = \"bls_api_key\" # Replace with your api key\n",
    "series_id = \"CEU6500000001\"\n",
    "start_year = \"2015\"\n",
    "end_year = \"2024\"\n",
    "# Format the request body as json\n",
    "data = json.dumps({\n",
    "    \"seriesid\": [series_id],\n",
    "    \"startyear\": start_year,\n",
    "    \"endyear\": end_year,\n",
    "    \"registrationkey\": api_key\n",
    "})\n",
    "# Send the post request and get the response\n",
    "response = requests.post(api_url, data=data, headers={\"Content-type\": \"application/json\"})\n",
    "response_data = response.json()\n",
    "# Check the status of the request\n",
    "if response_data[\"status\"] == \"REQUEST_SUCCEEDED\":\n",
    "    print(\"Request succeeded\")\n",
    "else:\n",
    "    print(\"Request failed\")\n",
    "# Extract the data from the response\n",
    "series_data = response_data[\"Results\"][\"series\"][0][\"data\"]\n",
    "# Convert the data to a pandas data frame\n",
    "df = pd.DataFrame(series_data)\n",
    "# Rename the columns\n",
    "df = df.rename(columns={\"year\": \"Year\", \"period\": \"Month\", \"value\": \"Value\", \"footnotes\": \"Footnotes\"})\n",
    "# Convert the unemployment rate to numeric\n",
    "# Reset the index\n",
    "df = df.reset_index(drop=True)\n",
    "# Print the data frame\n",
    "print(df)"
   ]
  }
 ],
 "metadata": {
  "kernelspec": {
   "display_name": "dev",
   "language": "python",
   "name": "python3"
  },
  "language_info": {
   "codemirror_mode": {
    "name": "ipython",
    "version": 3
   },
   "file_extension": ".py",
   "mimetype": "text/x-python",
   "name": "python",
   "nbconvert_exporter": "python",
   "pygments_lexer": "ipython3",
   "version": "3.10.13"
  }
 },
 "nbformat": 4,
 "nbformat_minor": 2
}
